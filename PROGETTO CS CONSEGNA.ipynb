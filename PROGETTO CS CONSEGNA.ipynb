{
 "cells": [
  {
   "cell_type": "code",
   "execution_count": 2,
   "metadata": {},
   "outputs": [],
   "source": [
    "import pandas as pd\n",
    "import numpy as np\n",
    "import re\n",
    "import matplotlib.pyplot as plt\n",
    "playstore = pd.read_csv(\"https://raw.githubusercontent.com/gdv/foundationsCS-2018/master/ex-data/project/googleplaystore.csv\")\n",
    "reviews = pd.read_csv(\"https://raw.githubusercontent.com/gdv/foundationsCS-2018/master/ex-data/project/googleplaystore_user_reviews.csv\")"
   ]
  },
  {
   "cell_type": "code",
   "execution_count": 3,
   "metadata": {
    "scrolled": false
   },
   "outputs": [],
   "source": [
    "# punto 1\n",
    "play = pd.DataFrame(playstore)"
   ]
  },
  {
   "cell_type": "code",
   "execution_count": 4,
   "metadata": {},
   "outputs": [],
   "source": [
    "play[['firstcol', 'secondcol']] = play['Size'].str.extract('(\\d+\\.?\\d*)([A-Za-z]*)', expand = True)\n",
    "Size = pd.Series(play['Size'])"
   ]
  },
  {
   "cell_type": "code",
   "execution_count": 5,
   "metadata": {},
   "outputs": [],
   "source": [
    "numero = pd.Series(play['firstcol'])\n",
    "valore = pd.Series(play['secondcol'])\n",
    "a = 0\n",
    "b = 0"
   ]
  },
  {
   "cell_type": "code",
   "execution_count": null,
   "metadata": {},
   "outputs": [],
   "source": [
    "for i in range(0,10841):\n",
    "    b = 0\n",
    "    for j in range(0,10841):\n",
    "        if a == b:\n",
    "            if valore[j] == 'M':\n",
    "                Size[a] = float(numero[i])*1000000\n",
    "            if valore[j] == 'k':\n",
    "                Size[a] = float(numero[i])*1000\n",
    "            if valore[j] == 'G':\n",
    "                Size[a] = float(numero[i])*1000000000\n",
    "        b = b+1\n",
    "    a = a+1"
   ]
  },
  {
   "cell_type": "code",
   "execution_count": null,
   "metadata": {},
   "outputs": [],
   "source": [
    "play['Size'] = Size"
   ]
  },
  {
   "cell_type": "code",
   "execution_count": null,
   "metadata": {},
   "outputs": [],
   "source": [
    "#punto 2 convertire il numero di installazioni in numero"
   ]
  },
  {
   "cell_type": "code",
   "execution_count": null,
   "metadata": {},
   "outputs": [],
   "source": [
    "inst = pd.Series(play['Installs'])"
   ]
  },
  {
   "cell_type": "code",
   "execution_count": null,
   "metadata": {},
   "outputs": [],
   "source": [
    "for i in range(0,len(play.Installs)):\n",
    "    inst[i] = re.sub('[+,]','',play.Installs[i])"
   ]
  },
  {
   "cell_type": "code",
   "execution_count": null,
   "metadata": {},
   "outputs": [],
   "source": [
    "play['Installs'] = inst"
   ]
  },
  {
   "cell_type": "code",
   "execution_count": null,
   "metadata": {},
   "outputs": [],
   "source": [
    "#punto 3"
   ]
  },
  {
   "cell_type": "code",
   "execution_count": null,
   "metadata": {},
   "outputs": [],
   "source": [
    "play = play.replace('Varies with device', play.replace(['Varies with device'], [None]))"
   ]
  },
  {
   "cell_type": "code",
   "execution_count": null,
   "metadata": {},
   "outputs": [],
   "source": [
    "#punto 4"
   ]
  },
  {
   "cell_type": "code",
   "execution_count": null,
   "metadata": {},
   "outputs": [],
   "source": [
    "cur_ver=pd.Series(play['Current Ver'])\n",
    "and_ver=pd.Series(play['Android Ver'])\n",
    "cur_ver_1=pd.Series([''])\n",
    "and_ver_1=pd.Series([''],index=[0])"
   ]
  },
  {
   "cell_type": "code",
   "execution_count": null,
   "metadata": {
    "scrolled": false
   },
   "outputs": [],
   "source": [
    "x = \"\"\n",
    "for i in cur_ver:\n",
    "    try:\n",
    "        x = re.compile('\\d+[\\d\\.]+\\d').match(str(i)).group()\n",
    "        cur_ver_1.set_value(max(cur_ver_1.index) + 1,  x)\n",
    "\n",
    "    except:\n",
    "        x = np.nan\n",
    "        cur_ver_1.set_value(max(cur_ver_1.index) + 1,  x)"
   ]
  },
  {
   "cell_type": "code",
   "execution_count": null,
   "metadata": {},
   "outputs": [],
   "source": [
    "cur_ver_1.value_counts()"
   ]
  },
  {
   "cell_type": "code",
   "execution_count": null,
   "metadata": {},
   "outputs": [],
   "source": [
    "x = \"\"\n",
    "for i in and_ver:\n",
    "    try:\n",
    "        x = re.compile('\\d+[\\d\\.]+\\d').match(str(i)).group()\n",
    "        and_ver_1.set_value(max(and_ver_1.index) + 1,  x)\n",
    "\n",
    "    except:\n",
    "        x = np.nan\n",
    "        and_ver_1.set_value(max(and_ver_1.index) + 1,  x)"
   ]
  },
  {
   "cell_type": "code",
   "execution_count": null,
   "metadata": {},
   "outputs": [],
   "source": [
    "and_ver_1"
   ]
  },
  {
   "cell_type": "code",
   "execution_count": null,
   "metadata": {},
   "outputs": [],
   "source": [
    "#punto 5 rimuovere i duplicati"
   ]
  },
  {
   "cell_type": "code",
   "execution_count": null,
   "metadata": {},
   "outputs": [],
   "source": [
    "#ipotizzo che i duplicati siano solo del nome\n",
    "\n",
    "play = play.drop(play[play.Rating > 5].index)\n",
    "play = play.drop_duplicates(subset=['App'], keep = 'first', inplace = False).sort_index().reset_index(drop=True)"
   ]
  },
  {
   "cell_type": "code",
   "execution_count": null,
   "metadata": {},
   "outputs": [],
   "source": [
    "play['App'].nunique() #mi conta i valori unici che ho per ogni colonna del mio dataframe (play)"
   ]
  },
  {
   "cell_type": "code",
   "execution_count": null,
   "metadata": {},
   "outputs": [],
   "source": [
    "lenght = len(play['App'])\n",
    "lenght\n",
    "#il numero di elementi unici e quelli presenti nel dataframe \"clean\" sono uguali, quindi i duplicati sono stati rimossi."
   ]
  },
  {
   "cell_type": "code",
   "execution_count": null,
   "metadata": {},
   "outputs": [],
   "source": [
    "# punto 6 per ogni categoria calcola il numero di app"
   ]
  },
  {
   "cell_type": "code",
   "execution_count": null,
   "metadata": {},
   "outputs": [],
   "source": [
    "sub_play = play[['App','Category']]\n",
    "sub_group = sub_play.groupby('Category').count()\n",
    "sub_group"
   ]
  },
  {
   "cell_type": "code",
   "execution_count": null,
   "metadata": {},
   "outputs": [],
   "source": [
    "# punto 7 per ogni categoria fare average rating"
   ]
  },
  {
   "cell_type": "code",
   "execution_count": null,
   "metadata": {},
   "outputs": [],
   "source": [
    "play_rat = play[['Rating','Category']]\n",
    "play_rat = play_rat.groupby('Category').mean()\n",
    "play_rat"
   ]
  },
  {
   "cell_type": "code",
   "execution_count": null,
   "metadata": {},
   "outputs": [],
   "source": [
    "#punto 8 Create two dataframes: one for the genres and one bridging apps and genres. So that, for instance, the app Pixel Draw - Number Art Coloring Book appears twice in the bridging table, once for Art & Design, once for Creativity"
   ]
  },
  {
   "cell_type": "code",
   "execution_count": null,
   "metadata": {},
   "outputs": [],
   "source": [
    "def uniq(input):\n",
    "    output = []\n",
    "    for x in input:\n",
    "        if x not in output:\n",
    "            output.append(x)\n",
    "    return output"
   ]
  },
  {
   "cell_type": "code",
   "execution_count": null,
   "metadata": {},
   "outputs": [],
   "source": [
    "genlist = uniq(play['Genres'])\n",
    "genlistdf = pd.DataFrame(genlist)"
   ]
  },
  {
   "cell_type": "code",
   "execution_count": null,
   "metadata": {},
   "outputs": [],
   "source": [
    "split = genlistdf[0].str.split(\";\", n = 1, expand = True) \n",
    "lista = uniq(split[0])"
   ]
  },
  {
   "cell_type": "code",
   "execution_count": null,
   "metadata": {},
   "outputs": [],
   "source": [
    "def uniq2(input,lista):\n",
    "    output = lista\n",
    "    for x in input:\n",
    "        if x not in output:\n",
    "            output.append(x)\n",
    "    return output"
   ]
  },
  {
   "cell_type": "code",
   "execution_count": null,
   "metadata": {},
   "outputs": [],
   "source": [
    "complete = uniq2(split[1],lista)\n",
    "completedf = pd.DataFrame(complete)\n",
    "Genere = completedf.dropna()"
   ]
  },
  {
   "cell_type": "code",
   "execution_count": null,
   "metadata": {},
   "outputs": [],
   "source": [
    "App = play[['App','Genres']]\n",
    "supp = App['Genres'].str.split(';', n = 1, expand = True)\n",
    "App['first'] = supp[0]\n",
    "App['second'] = supp[1]\n",
    "App.drop(columns = ['Genres'], inplace = True) #elimino la colonna"
   ]
  },
  {
   "cell_type": "code",
   "execution_count": null,
   "metadata": {},
   "outputs": [],
   "source": [
    "parte1 = App[['App','first']]\n",
    "parte2 = App[['App','second']]\n",
    "parte2 = parte2.dropna()\n",
    "parte2.rename(columns={'second': 'first'}, inplace=True)\n",
    "frames = [parte1,parte2]\n",
    "Genres_App = pd.concat(frames)\n",
    "Genres_App = Genres_App.sort_values(['App'])\n",
    "Genres_App.rename(columns={'first': 'Genre'}, inplace=True)"
   ]
  },
  {
   "cell_type": "code",
   "execution_count": null,
   "metadata": {},
   "outputs": [],
   "source": [
    "#punto 9 "
   ]
  },
  {
   "cell_type": "code",
   "execution_count": null,
   "metadata": {},
   "outputs": [],
   "source": [
    "for i in Genere[0]:\n",
    "    play[i] = False\n",
    "play[['g1','g2']] = play['Genres'].str.split(';',expand=True)\n",
    "clean1 = play"
   ]
  },
  {
   "cell_type": "code",
   "execution_count": null,
   "metadata": {},
   "outputs": [],
   "source": [
    "for i in Genere[0]:\n",
    "    clean1[i].loc[clean1[\"g1\"]==i] = True\n",
    "for i in Genere[0]:\n",
    "    clean1[i].loc[clean1[\"g2\"]==i] = True"
   ]
  },
  {
   "cell_type": "code",
   "execution_count": null,
   "metadata": {},
   "outputs": [],
   "source": [
    "#clean1[\"Creativity\"].value_counts().plot(\"pie\")"
   ]
  },
  {
   "cell_type": "code",
   "execution_count": null,
   "metadata": {},
   "outputs": [],
   "source": [
    "#clean1[\"Art & Design\"].value_counts().plot(\"pie\")"
   ]
  },
  {
   "cell_type": "code",
   "execution_count": null,
   "metadata": {},
   "outputs": [],
   "source": [
    "#punto10 For each genre, compute the average rating. What is the genre with highest average?"
   ]
  },
  {
   "cell_type": "code",
   "execution_count": null,
   "metadata": {},
   "outputs": [],
   "source": [
    "clean2= clean1\n",
    "Genere.join(clean2[\"Rating\"], sort = False)[[\"Rating\"]].groupby(Genere[0]).mean().sort_values(by = 'Rating', ascending = False)"
   ]
  },
  {
   "cell_type": "code",
   "execution_count": null,
   "metadata": {},
   "outputs": [],
   "source": [
    "#punto11 For each app, compute the approximate income, obtain as a product of number of installs and price."
   ]
  },
  {
   "cell_type": "code",
   "execution_count": null,
   "metadata": {},
   "outputs": [],
   "source": [
    "play['Price'].value_counts().sort_index"
   ]
  },
  {
   "cell_type": "code",
   "execution_count": null,
   "metadata": {},
   "outputs": [],
   "source": [
    "revenue = []\n",
    "play['Price'].replace('Free',0)\n",
    "inst = play['Installs']\n",
    "price = play['Price']\n",
    "lenght = len(play['App'])"
   ]
  },
  {
   "cell_type": "code",
   "execution_count": null,
   "metadata": {},
   "outputs": [],
   "source": [
    "#for i in range(0,lenght):\n",
    "#    revenue[i] = int(inst[i]) * float(price[i].replace('$',''))\n",
    "\n",
    "inst1 = pd.Series(inst).replace('Free',0)\n",
    "price1 = pd.Series(price).replace('Free',0)\n",
    "price1 = pd.Series(price1).replace('Everyone',0)"
   ]
  },
  {
   "cell_type": "code",
   "execution_count": null,
   "metadata": {},
   "outputs": [],
   "source": [
    "for i in range(0,lenght):\n",
    "    revenue.append(int(inst1[i])*(float(price1[i].replace('$',''))))\n",
    "revenue"
   ]
  },
  {
   "cell_type": "code",
   "execution_count": null,
   "metadata": {},
   "outputs": [],
   "source": [
    "#punto12 For each app, compute its minimum and maximum Sentiment_polarity\n",
    "reviews = reviews.dropna().sort_index().reset_index(drop=True)"
   ]
  },
  {
   "cell_type": "code",
   "execution_count": null,
   "metadata": {},
   "outputs": [],
   "source": [
    "#massimo\n",
    "massimo = reviews.groupby(['App']).max().sort_values(['Sentiment_Polarity'], ascending = False)"
   ]
  },
  {
   "cell_type": "code",
   "execution_count": null,
   "metadata": {},
   "outputs": [],
   "source": [
    "#minimo\n",
    "minimo = reviews.groupby(['App']).min().sort_values(['Sentiment_Polarity'],ascending = True)"
   ]
  }
 ],
 "metadata": {
  "kernelspec": {
   "display_name": "Python 3",
   "language": "python",
   "name": "python3"
  },
  "language_info": {
   "codemirror_mode": {
    "name": "ipython",
    "version": 3
   },
   "file_extension": ".py",
   "mimetype": "text/x-python",
   "name": "python",
   "nbconvert_exporter": "python",
   "pygments_lexer": "ipython3",
   "version": "3.7.0"
  }
 },
 "nbformat": 4,
 "nbformat_minor": 2
}
